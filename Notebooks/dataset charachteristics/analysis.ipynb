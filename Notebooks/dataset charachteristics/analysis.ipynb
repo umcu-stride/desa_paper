{
 "cells": [
  {
   "cell_type": "code",
   "execution_count": 1,
   "metadata": {},
   "outputs": [],
   "source": [
    "import pandas as pd\n",
    "import numpy as np\n",
    "import scipy\n",
    "from tableone import TableOne\n",
    "%load_ext autoreload\n",
    "%autoreload 2"
   ]
  },
  {
   "attachments": {},
   "cell_type": "markdown",
   "metadata": {},
   "source": [
    "# Load Epitope Database"
   ]
  },
  {
   "cell_type": "code",
   "execution_count": 2,
   "metadata": {},
   "outputs": [],
   "source": [
    "path_cohort = '~/Global Data/KaplanMeier/DESAsurvival_original.csv'\n",
    "df_cohort = pd.read_csv(path_cohort, sep=';', decimal=',')\n",
    "\n",
    "# path_cohort = '~/UMCUtrecht/ProcessedData/procare_1_cohort/procare_1_cohort.csv'\n",
    "# path_cohort = '~/UMCUtrecht/ProcessedData/procare_1_cohort/procare_1_cohort.xlsx'\n",
    "path_antibody = '~/Global Data/20211104_mismatch_ep_db.pickle' # Danial\\Global Data\\\n",
    "df_abs = pd.read_pickle(path_antibody)\n",
    "# There is also another DESA column in the df_cohort.\n",
    "# df_cohort = pd.read_excel(path_cohort, skiprows=1)\n",
    "\n",
    "df = df_abs.merge(df_cohort, on='TransplantID')"
   ]
  },
  {
   "attachments": {},
   "cell_type": "markdown",
   "metadata": {},
   "source": [
    "##  Table 1"
   ]
  },
  {
   "cell_type": "code",
   "execution_count": 3,
   "metadata": {},
   "outputs": [
    {
     "data": {
      "text/plain": [
       "No MFI         2840\n",
       "No DESA         853\n",
       "No HLAE-Abs     558\n",
       "DESA            439\n",
       "Name: DESA_Status, dtype: int64"
      ]
     },
     "execution_count": 3,
     "metadata": {},
     "output_type": "execute_result"
    }
   ],
   "source": [
    "df['DESA_Status'].value_counts()"
   ]
  },
  {
   "cell_type": "code",
   "execution_count": 4,
   "metadata": {},
   "outputs": [],
   "source": [
    "df['NumMismatch_ABDRDQ_broad'] = df['NumMismatch_ABDR_broad'] + df['mmDQ_broadLevel']"
   ]
  },
  {
   "cell_type": "code",
   "execution_count": 5,
   "metadata": {},
   "outputs": [
    {
     "name": "stderr",
     "output_type": "stream",
     "text": [
      "/tmp/ipykernel_17569/276454045.py:22: SettingWithCopyWarning: \n",
      "A value is trying to be set on a copy of a slice from a DataFrame.\n",
      "Try using .loc[row_indexer,col_indexer] = value instead\n",
      "\n",
      "See the caveats in the documentation: https://pandas.pydata.org/pandas-docs/stable/user_guide/indexing.html#returning-a-view-versus-a-copy\n",
      "  df_t1['DESA_Status'] = df_t1['DESA_Status'].apply(lambda x:'No HLAE-Abs' if x == 'No MFI' else x) # revision; distinguish no DESA with HLA-abs from no HLA-abs\n",
      "/home/lcreteig/.local/share/virtualenvs/desa_paper-0PNgmhA7/lib/python3.8/site-packages/pandas/core/generic.py:6392: SettingWithCopyWarning: \n",
      "A value is trying to be set on a copy of a slice from a DataFrame\n",
      "\n",
      "See the caveats in the documentation: https://pandas.pydata.org/pandas-docs/stable/user_guide/indexing.html#returning-a-view-versus-a-copy\n",
      "  return self._update_inplace(result)\n",
      "/tmp/ipykernel_17569/276454045.py:25: SettingWithCopyWarning: \n",
      "A value is trying to be set on a copy of a slice from a DataFrame.\n",
      "Try using .loc[row_indexer,col_indexer] = value instead\n",
      "\n",
      "See the caveats in the documentation: https://pandas.pydata.org/pandas-docs/stable/user_guide/indexing.html#returning-a-view-versus-a-copy\n",
      "  df_t1['CIPDeceadDonor'] = (df_t1['CIPHour_DBD'] + df_t1['CIPHour_DCD']).replace(0, np.nan)\n",
      "/tmp/ipykernel_17569/276454045.py:28: SettingWithCopyWarning: \n",
      "A value is trying to be set on a copy of a slice from a DataFrame.\n",
      "Try using .loc[row_indexer,col_indexer] = value instead\n",
      "\n",
      "See the caveats in the documentation: https://pandas.pydata.org/pandas-docs/stable/user_guide/indexing.html#returning-a-view-versus-a-copy\n",
      "  df_t1['CIPLivingDonor'] = v\n",
      "/home/lcreteig/.local/share/virtualenvs/desa_paper-0PNgmhA7/lib/python3.8/site-packages/pandas/core/frame.py:4906: SettingWithCopyWarning: \n",
      "A value is trying to be set on a copy of a slice from a DataFrame\n",
      "\n",
      "See the caveats in the documentation: https://pandas.pydata.org/pandas-docs/stable/user_guide/indexing.html#returning-a-view-versus-a-copy\n",
      "  return super().drop(\n",
      "/tmp/ipykernel_17569/276454045.py:30: SettingWithCopyWarning: \n",
      "A value is trying to be set on a copy of a slice from a DataFrame.\n",
      "Try using .loc[row_indexer,col_indexer] = value instead\n",
      "\n",
      "See the caveats in the documentation: https://pandas.pydata.org/pandas-docs/stable/user_guide/indexing.html#returning-a-view-versus-a-copy\n",
      "  df_t1['MMF/azathioprine'] = df[['MMF_T0', 'Aza_T0']].apply(lambda x: 'Yes'  if ((x[0] == 'Yes') | (x[1] == 'Yes')) else 'No', axis=1)\n",
      "/tmp/ipykernel_17569/276454045.py:31: SettingWithCopyWarning: \n",
      "A value is trying to be set on a copy of a slice from a DataFrame.\n",
      "Try using .loc[row_indexer,col_indexer] = value instead\n",
      "\n",
      "See the caveats in the documentation: https://pandas.pydata.org/pandas-docs/stable/user_guide/indexing.html#returning-a-view-versus-a-copy\n",
      "  df_t1['Cyclosporin/Tacrolimus'] = df[['Cyclosporin_T0', 'Tacrolimus_T0']].apply(lambda x: 'Yes'  if ((x[0] == 'Yes') | (x[1] == 'Yes')) else 'No', axis=1)\n"
     ]
    }
   ],
   "source": [
    "# selected variables\n",
    "cols = [\n",
    "    'DESA_Status', \n",
    "    'RecipientAge_NOTR', 'RecipientSex_NOTR', 'DialysisYears',\n",
    "    'DonorAge_NOTR', 'DonorSex_NOTR', \n",
    "    # 'TypeOfDonor_NOTR',\n",
    "    'TypeCadaveric_NOTR', \n",
    "    'CIPHour_DBD', 'CIPHour_DCD',\n",
    "    'CIPHour',\n",
    "    'Retransplant', \n",
    "    'CurrentPRA_NOTR',\n",
    "    'HighPRA_NOTR',\n",
    "    'ALG_ATG_OKT3_AntiPanTMoAb',\n",
    "    'IL2rMoAb_T0',\n",
    "    'NumMismatch_ABDRDQ_broad',\n",
    "    'Steroids_T0', 'MMF_T0', 'Aza_T0', 'Sirolimus_T0', 'Cyclosporin_T0', 'Tacrolimus_T0', 'Unknown_T0', 'Others_T0',\n",
    "    'DialysisYN',\n",
    "    \n",
    "]\n",
    "df_t1 = df[cols]\n",
    "#df_t1['DESA_Status'] = df_t1['DESA_Status'].apply(lambda x:'DESA' if x == 'DESA' else 'No DESA') # submitted\n",
    "df_t1['DESA_Status'] = df_t1['DESA_Status'].apply(lambda x:'No HLAE-Abs' if x == 'No MFI' else x) # revision; distinguish no DESA with HLA-abs from no HLA-abs\n",
    "df_t1['TypeCadaveric_NOTR'].fillna('Living', inplace=True)\n",
    "\n",
    "df_t1['CIPDeceadDonor'] = (df_t1['CIPHour_DBD'] + df_t1['CIPHour_DCD']).replace(0, np.nan)\n",
    "for g, v in df.groupby('TypeOfDonor_NOTR')['CIPHour']:\n",
    "    if g == 'Living':\n",
    "        df_t1['CIPLivingDonor'] = v\n",
    "df_t1.drop(['CIPHour_DBD', 'CIPHour_DCD', 'CIPHour'], axis =1, inplace=True)\n",
    "df_t1['MMF/azathioprine'] = df[['MMF_T0', 'Aza_T0']].apply(lambda x: 'Yes'  if ((x[0] == 'Yes') | (x[1] == 'Yes')) else 'No', axis=1)\n",
    "df_t1['Cyclosporin/Tacrolimus'] = df[['Cyclosporin_T0', 'Tacrolimus_T0']].apply(lambda x: 'Yes'  if ((x[0] == 'Yes') | (x[1] == 'Yes')) else 'No', axis=1)\n",
    "df_t1.drop(['Cyclosporin_T0', 'Tacrolimus_T0', 'MMF_T0', 'Aza_T0'], axis =1, inplace=True)"
   ]
  },
  {
   "cell_type": "code",
   "execution_count": 6,
   "metadata": {},
   "outputs": [
    {
     "data": {
      "text/plain": [
       "No HLAE-Abs    3398\n",
       "No DESA         853\n",
       "DESA            439\n",
       "Name: DESA_Status, dtype: int64"
      ]
     },
     "execution_count": 6,
     "metadata": {},
     "output_type": "execute_result"
    }
   ],
   "source": [
    "df_t1['DESA_Status'].value_counts()"
   ]
  },
  {
   "cell_type": "code",
   "execution_count": 7,
   "metadata": {},
   "outputs": [],
   "source": [
    "#df_t1.to_csv('/Users/Danial/UMCUtrecht/ProcessedData/tableone.csv')"
   ]
  },
  {
   "cell_type": "code",
   "execution_count": 8,
   "metadata": {},
   "outputs": [
    {
     "data": {
      "text/plain": [
       "True"
      ]
     },
     "execution_count": 8,
     "metadata": {},
     "output_type": "execute_result"
    }
   ],
   "source": [
    "'MMF/azathioprine' in df_t1.columns\n",
    "'Cyclosporin/Tacrolimus' in df_t1.columns"
   ]
  },
  {
   "cell_type": "code",
   "execution_count": 9,
   "metadata": {},
   "outputs": [
    {
     "data": {
      "text/html": [
       "<div>\n",
       "<style scoped>\n",
       "    .dataframe tbody tr th:only-of-type {\n",
       "        vertical-align: middle;\n",
       "    }\n",
       "\n",
       "    .dataframe tbody tr th {\n",
       "        vertical-align: top;\n",
       "    }\n",
       "\n",
       "    .dataframe thead tr th {\n",
       "        text-align: left;\n",
       "    }\n",
       "</style>\n",
       "<table border=\"1\" class=\"dataframe\">\n",
       "  <thead>\n",
       "    <tr>\n",
       "      <th></th>\n",
       "      <th></th>\n",
       "      <th colspan=\"7\" halign=\"left\">Grouped by DESA_Status</th>\n",
       "    </tr>\n",
       "    <tr>\n",
       "      <th></th>\n",
       "      <th></th>\n",
       "      <th>Missing</th>\n",
       "      <th>Overall</th>\n",
       "      <th>DESA</th>\n",
       "      <th>No DESA</th>\n",
       "      <th>No HLAE-Abs</th>\n",
       "      <th>P-Value</th>\n",
       "      <th>Test</th>\n",
       "    </tr>\n",
       "  </thead>\n",
       "  <tbody>\n",
       "    <tr>\n",
       "      <th>n</th>\n",
       "      <th></th>\n",
       "      <td></td>\n",
       "      <td>4690</td>\n",
       "      <td>439</td>\n",
       "      <td>853</td>\n",
       "      <td>3398</td>\n",
       "      <td></td>\n",
       "      <td></td>\n",
       "    </tr>\n",
       "    <tr>\n",
       "      <th>Recipiet Age, mean (SD)</th>\n",
       "      <th></th>\n",
       "      <td>0</td>\n",
       "      <td>45.4 (14.4)</td>\n",
       "      <td>44.6 (13.7)</td>\n",
       "      <td>45.1 (13.7)</td>\n",
       "      <td>45.6 (14.6)</td>\n",
       "      <td>0.270</td>\n",
       "      <td>One-way ANOVA</td>\n",
       "    </tr>\n",
       "    <tr>\n",
       "      <th rowspan=\"2\" valign=\"top\">Recipiet Sex, n (%)</th>\n",
       "      <th>Female</th>\n",
       "      <td>0</td>\n",
       "      <td>1879 (40.1)</td>\n",
       "      <td>267 (60.8)</td>\n",
       "      <td>497 (58.3)</td>\n",
       "      <td>1115 (32.8)</td>\n",
       "      <td>&lt;0.001</td>\n",
       "      <td>Chi-squared</td>\n",
       "    </tr>\n",
       "    <tr>\n",
       "      <th>Male</th>\n",
       "      <td></td>\n",
       "      <td>2811 (59.9)</td>\n",
       "      <td>172 (39.2)</td>\n",
       "      <td>356 (41.7)</td>\n",
       "      <td>2283 (67.2)</td>\n",
       "      <td></td>\n",
       "      <td></td>\n",
       "    </tr>\n",
       "    <tr>\n",
       "      <th>Time on dialysis, y, mean (SD)</th>\n",
       "      <th></th>\n",
       "      <td>0</td>\n",
       "      <td>2.8 (2.5)</td>\n",
       "      <td>3.3 (3.0)</td>\n",
       "      <td>3.4 (3.0)</td>\n",
       "      <td>2.5 (2.2)</td>\n",
       "      <td>&lt;0.001</td>\n",
       "      <td>One-way ANOVA</td>\n",
       "    </tr>\n",
       "    <tr>\n",
       "      <th>Donor Age, mean (SD)</th>\n",
       "      <th></th>\n",
       "      <td>0</td>\n",
       "      <td>44.3 (15.0)</td>\n",
       "      <td>45.1 (15.3)</td>\n",
       "      <td>43.5 (14.6)</td>\n",
       "      <td>44.4 (15.1)</td>\n",
       "      <td>0.163</td>\n",
       "      <td>One-way ANOVA</td>\n",
       "    </tr>\n",
       "    <tr>\n",
       "      <th rowspan=\"2\" valign=\"top\">Donor Sex, n (%)</th>\n",
       "      <th>Female</th>\n",
       "      <td>0</td>\n",
       "      <td>2366 (50.4)</td>\n",
       "      <td>193 (44.0)</td>\n",
       "      <td>412 (48.3)</td>\n",
       "      <td>1761 (51.8)</td>\n",
       "      <td>0.003</td>\n",
       "      <td>Chi-squared</td>\n",
       "    </tr>\n",
       "    <tr>\n",
       "      <th>Male</th>\n",
       "      <td></td>\n",
       "      <td>2324 (49.6)</td>\n",
       "      <td>246 (56.0)</td>\n",
       "      <td>441 (51.7)</td>\n",
       "      <td>1637 (48.2)</td>\n",
       "      <td></td>\n",
       "      <td></td>\n",
       "    </tr>\n",
       "    <tr>\n",
       "      <th rowspan=\"3\" valign=\"top\">Type of Donor, n (%)</th>\n",
       "      <th>Heartbeating</th>\n",
       "      <td>0</td>\n",
       "      <td>2427 (51.7)</td>\n",
       "      <td>248 (56.5)</td>\n",
       "      <td>551 (64.6)</td>\n",
       "      <td>1628 (47.9)</td>\n",
       "      <td>&lt;0.001</td>\n",
       "      <td>Chi-squared</td>\n",
       "    </tr>\n",
       "    <tr>\n",
       "      <th>Living</th>\n",
       "      <td></td>\n",
       "      <td>1455 (31.0)</td>\n",
       "      <td>124 (28.2)</td>\n",
       "      <td>184 (21.6)</td>\n",
       "      <td>1147 (33.8)</td>\n",
       "      <td></td>\n",
       "      <td></td>\n",
       "    </tr>\n",
       "    <tr>\n",
       "      <th>Non-heartbeating</th>\n",
       "      <td></td>\n",
       "      <td>808 (17.2)</td>\n",
       "      <td>67 (15.3)</td>\n",
       "      <td>118 (13.8)</td>\n",
       "      <td>623 (18.3)</td>\n",
       "      <td></td>\n",
       "      <td></td>\n",
       "    </tr>\n",
       "    <tr>\n",
       "      <th rowspan=\"2\" valign=\"top\">Retransplant, n (%)</th>\n",
       "      <th>No</th>\n",
       "      <td>0</td>\n",
       "      <td>3970 (84.6)</td>\n",
       "      <td>239 (54.4)</td>\n",
       "      <td>486 (57.0)</td>\n",
       "      <td>3245 (95.5)</td>\n",
       "      <td>&lt;0.001</td>\n",
       "      <td>Chi-squared</td>\n",
       "    </tr>\n",
       "    <tr>\n",
       "      <th>Yes</th>\n",
       "      <td></td>\n",
       "      <td>720 (15.4)</td>\n",
       "      <td>200 (45.6)</td>\n",
       "      <td>367 (43.0)</td>\n",
       "      <td>153 (4.5)</td>\n",
       "      <td></td>\n",
       "      <td></td>\n",
       "    </tr>\n",
       "    <tr>\n",
       "      <th>PRA at time of transplant, %, mean (SD)</th>\n",
       "      <th></th>\n",
       "      <td>41</td>\n",
       "      <td>6.0 (17.5)</td>\n",
       "      <td>25.6 (31.7)</td>\n",
       "      <td>16.2 (26.3)</td>\n",
       "      <td>0.9 (4.3)</td>\n",
       "      <td>&lt;0.001</td>\n",
       "      <td>One-way ANOVA</td>\n",
       "    </tr>\n",
       "    <tr>\n",
       "      <th>Highest PRA, %, mean (SD)</th>\n",
       "      <th></th>\n",
       "      <td>41</td>\n",
       "      <td>13.9 (25.9)</td>\n",
       "      <td>43.8 (36.8)</td>\n",
       "      <td>36.1 (34.9)</td>\n",
       "      <td>4.4 (10.7)</td>\n",
       "      <td>&lt;0.001</td>\n",
       "      <td>One-way ANOVA</td>\n",
       "    </tr>\n",
       "    <tr>\n",
       "      <th rowspan=\"2\" valign=\"top\">ALG_ATG_OKT3_AntiPanTMoAb, n (%)</th>\n",
       "      <th>No</th>\n",
       "      <td>0</td>\n",
       "      <td>4506 (96.1)</td>\n",
       "      <td>409 (93.2)</td>\n",
       "      <td>799 (93.7)</td>\n",
       "      <td>3298 (97.1)</td>\n",
       "      <td>&lt;0.001</td>\n",
       "      <td>Chi-squared</td>\n",
       "    </tr>\n",
       "    <tr>\n",
       "      <th>Yes</th>\n",
       "      <td></td>\n",
       "      <td>184 (3.9)</td>\n",
       "      <td>30 (6.8)</td>\n",
       "      <td>54 (6.3)</td>\n",
       "      <td>100 (2.9)</td>\n",
       "      <td></td>\n",
       "      <td></td>\n",
       "    </tr>\n",
       "    <tr>\n",
       "      <th rowspan=\"2\" valign=\"top\">IL2rMoAb_T0, n (%)</th>\n",
       "      <th>No</th>\n",
       "      <td>0</td>\n",
       "      <td>3675 (78.4)</td>\n",
       "      <td>353 (80.4)</td>\n",
       "      <td>692 (81.1)</td>\n",
       "      <td>2630 (77.4)</td>\n",
       "      <td>0.034</td>\n",
       "      <td>Chi-squared</td>\n",
       "    </tr>\n",
       "    <tr>\n",
       "      <th>Yes</th>\n",
       "      <td></td>\n",
       "      <td>1015 (21.6)</td>\n",
       "      <td>86 (19.6)</td>\n",
       "      <td>161 (18.9)</td>\n",
       "      <td>768 (22.6)</td>\n",
       "      <td></td>\n",
       "      <td></td>\n",
       "    </tr>\n",
       "    <tr>\n",
       "      <th>HLA-A/B/DR/DQ broad mismatches, mean ± SD, mean (SD)</th>\n",
       "      <th></th>\n",
       "      <td>504</td>\n",
       "      <td>2.8 (1.7)</td>\n",
       "      <td>2.7 (1.7)</td>\n",
       "      <td>2.6 (1.7)</td>\n",
       "      <td>2.8 (1.8)</td>\n",
       "      <td>0.027</td>\n",
       "      <td>One-way ANOVA</td>\n",
       "    </tr>\n",
       "    <tr>\n",
       "      <th rowspan=\"2\" valign=\"top\">Steroids_T0, n (%)</th>\n",
       "      <th>No</th>\n",
       "      <td>0</td>\n",
       "      <td>105 (2.2)</td>\n",
       "      <td>16 (3.6)</td>\n",
       "      <td>22 (2.6)</td>\n",
       "      <td>67 (2.0)</td>\n",
       "      <td>0.063</td>\n",
       "      <td>Chi-squared</td>\n",
       "    </tr>\n",
       "    <tr>\n",
       "      <th>Yes</th>\n",
       "      <td></td>\n",
       "      <td>4585 (97.8)</td>\n",
       "      <td>423 (96.4)</td>\n",
       "      <td>831 (97.4)</td>\n",
       "      <td>3331 (98.0)</td>\n",
       "      <td></td>\n",
       "      <td></td>\n",
       "    </tr>\n",
       "    <tr>\n",
       "      <th rowspan=\"2\" valign=\"top\">Sirolimus_T0, n (%)</th>\n",
       "      <th>No</th>\n",
       "      <td>0</td>\n",
       "      <td>4406 (93.9)</td>\n",
       "      <td>416 (94.8)</td>\n",
       "      <td>802 (94.0)</td>\n",
       "      <td>3188 (93.8)</td>\n",
       "      <td>0.735</td>\n",
       "      <td>Chi-squared</td>\n",
       "    </tr>\n",
       "    <tr>\n",
       "      <th>Yes</th>\n",
       "      <td></td>\n",
       "      <td>284 (6.1)</td>\n",
       "      <td>23 (5.2)</td>\n",
       "      <td>51 (6.0)</td>\n",
       "      <td>210 (6.2)</td>\n",
       "      <td></td>\n",
       "      <td></td>\n",
       "    </tr>\n",
       "    <tr>\n",
       "      <th rowspan=\"2\" valign=\"top\">Unknown_T0, n (%)</th>\n",
       "      <th>No</th>\n",
       "      <td>0</td>\n",
       "      <td>4674 (99.7)</td>\n",
       "      <td>435 (99.1)</td>\n",
       "      <td>852 (99.9)</td>\n",
       "      <td>3387 (99.7)</td>\n",
       "      <td>0.064</td>\n",
       "      <td>Chi-squared (warning: expected count &lt; 5)</td>\n",
       "    </tr>\n",
       "    <tr>\n",
       "      <th>Yes</th>\n",
       "      <td></td>\n",
       "      <td>16 (0.3)</td>\n",
       "      <td>4 (0.9)</td>\n",
       "      <td>1 (0.1)</td>\n",
       "      <td>11 (0.3)</td>\n",
       "      <td></td>\n",
       "      <td></td>\n",
       "    </tr>\n",
       "    <tr>\n",
       "      <th rowspan=\"2\" valign=\"top\">Others_T0, n (%)</th>\n",
       "      <th>No</th>\n",
       "      <td>0</td>\n",
       "      <td>4090 (87.2)</td>\n",
       "      <td>404 (92.0)</td>\n",
       "      <td>766 (89.8)</td>\n",
       "      <td>2920 (85.9)</td>\n",
       "      <td>&lt;0.001</td>\n",
       "      <td>Chi-squared</td>\n",
       "    </tr>\n",
       "    <tr>\n",
       "      <th>Yes</th>\n",
       "      <td></td>\n",
       "      <td>600 (12.8)</td>\n",
       "      <td>35 (8.0)</td>\n",
       "      <td>87 (10.2)</td>\n",
       "      <td>478 (14.1)</td>\n",
       "      <td></td>\n",
       "      <td></td>\n",
       "    </tr>\n",
       "    <tr>\n",
       "      <th rowspan=\"4\" valign=\"top\">DialysisYN, n (%)</th>\n",
       "      <th>No</th>\n",
       "      <td>0</td>\n",
       "      <td>526 (11.2)</td>\n",
       "      <td>44 (10.0)</td>\n",
       "      <td>68 (8.0)</td>\n",
       "      <td>414 (12.2)</td>\n",
       "      <td>&lt;0.001</td>\n",
       "      <td>Chi-squared (warning: expected count &lt; 5)</td>\n",
       "    </tr>\n",
       "    <tr>\n",
       "      <th>Unknown</th>\n",
       "      <td></td>\n",
       "      <td>28 (0.6)</td>\n",
       "      <td>7 (1.6)</td>\n",
       "      <td>4 (0.5)</td>\n",
       "      <td>17 (0.5)</td>\n",
       "      <td></td>\n",
       "      <td></td>\n",
       "    </tr>\n",
       "    <tr>\n",
       "      <th>Yes_haemo</th>\n",
       "      <td></td>\n",
       "      <td>2433 (51.9)</td>\n",
       "      <td>256 (58.3)</td>\n",
       "      <td>505 (59.2)</td>\n",
       "      <td>1672 (49.2)</td>\n",
       "      <td></td>\n",
       "      <td></td>\n",
       "    </tr>\n",
       "    <tr>\n",
       "      <th>Yes_peri</th>\n",
       "      <td></td>\n",
       "      <td>1703 (36.3)</td>\n",
       "      <td>132 (30.1)</td>\n",
       "      <td>276 (32.4)</td>\n",
       "      <td>1295 (38.1)</td>\n",
       "      <td></td>\n",
       "      <td></td>\n",
       "    </tr>\n",
       "    <tr>\n",
       "      <th>Cold Ischemia Time Deceased Donors, mean (SD)</th>\n",
       "      <th></th>\n",
       "      <td>1457</td>\n",
       "      <td>21.9 (7.2)</td>\n",
       "      <td>22.6 (7.0)</td>\n",
       "      <td>23.1 (6.9)</td>\n",
       "      <td>21.4 (7.3)</td>\n",
       "      <td>&lt;0.001</td>\n",
       "      <td>One-way ANOVA</td>\n",
       "    </tr>\n",
       "    <tr>\n",
       "      <th>Cold Ischemia Time Living Donors, mean (SD)</th>\n",
       "      <th></th>\n",
       "      <td>3235</td>\n",
       "      <td>2.5 (1.5)</td>\n",
       "      <td>2.5 (1.0)</td>\n",
       "      <td>2.5 (1.1)</td>\n",
       "      <td>2.5 (1.6)</td>\n",
       "      <td>0.989</td>\n",
       "      <td>One-way ANOVA</td>\n",
       "    </tr>\n",
       "    <tr>\n",
       "      <th rowspan=\"2\" valign=\"top\">MMF/azathioprine, n (%)</th>\n",
       "      <th>No</th>\n",
       "      <td>0</td>\n",
       "      <td>1113 (23.7)</td>\n",
       "      <td>89 (20.3)</td>\n",
       "      <td>209 (24.5)</td>\n",
       "      <td>815 (24.0)</td>\n",
       "      <td>0.192</td>\n",
       "      <td>Chi-squared</td>\n",
       "    </tr>\n",
       "    <tr>\n",
       "      <th>Yes</th>\n",
       "      <td></td>\n",
       "      <td>3577 (76.3)</td>\n",
       "      <td>350 (79.7)</td>\n",
       "      <td>644 (75.5)</td>\n",
       "      <td>2583 (76.0)</td>\n",
       "      <td></td>\n",
       "      <td></td>\n",
       "    </tr>\n",
       "    <tr>\n",
       "      <th rowspan=\"2\" valign=\"top\">Cyclosporin/Tacrolimus, n (%)</th>\n",
       "      <th>No</th>\n",
       "      <td>0</td>\n",
       "      <td>288 (6.1)</td>\n",
       "      <td>24 (5.5)</td>\n",
       "      <td>45 (5.3)</td>\n",
       "      <td>219 (6.4)</td>\n",
       "      <td>0.368</td>\n",
       "      <td>Chi-squared</td>\n",
       "    </tr>\n",
       "    <tr>\n",
       "      <th>Yes</th>\n",
       "      <td></td>\n",
       "      <td>4402 (93.9)</td>\n",
       "      <td>415 (94.5)</td>\n",
       "      <td>808 (94.7)</td>\n",
       "      <td>3179 (93.6)</td>\n",
       "      <td></td>\n",
       "      <td></td>\n",
       "    </tr>\n",
       "  </tbody>\n",
       "</table>\n",
       "</div><br />[1] Chi-squared tests for the following variables may be invalid due to the low number of observations: DialysisYN, Unknown_T0.<br />"
      ],
      "text/plain": [
       "                                                                      Grouped by DESA_Status                                                                                                       \n",
       "                                                                                     Missing      Overall         DESA      No DESA  No HLAE-Abs P-Value                                       Test\n",
       "n                                                                                                    4690          439          853         3398                                                   \n",
       "Recipiet Age, mean (SD)                                                                    0  45.4 (14.4)  44.6 (13.7)  45.1 (13.7)  45.6 (14.6)   0.270                              One-way ANOVA\n",
       "Recipiet Sex, n (%)                                  Female                                0  1879 (40.1)   267 (60.8)   497 (58.3)  1115 (32.8)  <0.001                                Chi-squared\n",
       "                                                     Male                                     2811 (59.9)   172 (39.2)   356 (41.7)  2283 (67.2)                                                   \n",
       "Time on dialysis, y, mean (SD)                                                             0    2.8 (2.5)    3.3 (3.0)    3.4 (3.0)    2.5 (2.2)  <0.001                              One-way ANOVA\n",
       "Donor Age, mean (SD)                                                                       0  44.3 (15.0)  45.1 (15.3)  43.5 (14.6)  44.4 (15.1)   0.163                              One-way ANOVA\n",
       "Donor Sex, n (%)                                     Female                                0  2366 (50.4)   193 (44.0)   412 (48.3)  1761 (51.8)   0.003                                Chi-squared\n",
       "                                                     Male                                     2324 (49.6)   246 (56.0)   441 (51.7)  1637 (48.2)                                                   \n",
       "Type of Donor, n (%)                                 Heartbeating                          0  2427 (51.7)   248 (56.5)   551 (64.6)  1628 (47.9)  <0.001                                Chi-squared\n",
       "                                                     Living                                   1455 (31.0)   124 (28.2)   184 (21.6)  1147 (33.8)                                                   \n",
       "                                                     Non-heartbeating                          808 (17.2)    67 (15.3)   118 (13.8)   623 (18.3)                                                   \n",
       "Retransplant, n (%)                                  No                                    0  3970 (84.6)   239 (54.4)   486 (57.0)  3245 (95.5)  <0.001                                Chi-squared\n",
       "                                                     Yes                                       720 (15.4)   200 (45.6)   367 (43.0)    153 (4.5)                                                   \n",
       "PRA at time of transplant, %, mean (SD)                                                   41   6.0 (17.5)  25.6 (31.7)  16.2 (26.3)    0.9 (4.3)  <0.001                              One-way ANOVA\n",
       "Highest PRA, %, mean (SD)                                                                 41  13.9 (25.9)  43.8 (36.8)  36.1 (34.9)   4.4 (10.7)  <0.001                              One-way ANOVA\n",
       "ALG_ATG_OKT3_AntiPanTMoAb, n (%)                     No                                    0  4506 (96.1)   409 (93.2)   799 (93.7)  3298 (97.1)  <0.001                                Chi-squared\n",
       "                                                     Yes                                        184 (3.9)     30 (6.8)     54 (6.3)    100 (2.9)                                                   \n",
       "IL2rMoAb_T0, n (%)                                   No                                    0  3675 (78.4)   353 (80.4)   692 (81.1)  2630 (77.4)   0.034                                Chi-squared\n",
       "                                                     Yes                                      1015 (21.6)    86 (19.6)   161 (18.9)   768 (22.6)                                                   \n",
       "HLA-A/B/DR/DQ broad mismatches, mean ± SD, mean (SD)                                     504    2.8 (1.7)    2.7 (1.7)    2.6 (1.7)    2.8 (1.8)   0.027                              One-way ANOVA\n",
       "Steroids_T0, n (%)                                   No                                    0    105 (2.2)     16 (3.6)     22 (2.6)     67 (2.0)   0.063                                Chi-squared\n",
       "                                                     Yes                                      4585 (97.8)   423 (96.4)   831 (97.4)  3331 (98.0)                                                   \n",
       "Sirolimus_T0, n (%)                                  No                                    0  4406 (93.9)   416 (94.8)   802 (94.0)  3188 (93.8)   0.735                                Chi-squared\n",
       "                                                     Yes                                        284 (6.1)     23 (5.2)     51 (6.0)    210 (6.2)                                                   \n",
       "Unknown_T0, n (%)                                    No                                    0  4674 (99.7)   435 (99.1)   852 (99.9)  3387 (99.7)   0.064  Chi-squared (warning: expected count < 5)\n",
       "                                                     Yes                                         16 (0.3)      4 (0.9)      1 (0.1)     11 (0.3)                                                   \n",
       "Others_T0, n (%)                                     No                                    0  4090 (87.2)   404 (92.0)   766 (89.8)  2920 (85.9)  <0.001                                Chi-squared\n",
       "                                                     Yes                                       600 (12.8)     35 (8.0)    87 (10.2)   478 (14.1)                                                   \n",
       "DialysisYN, n (%)                                    No                                    0   526 (11.2)    44 (10.0)     68 (8.0)   414 (12.2)  <0.001  Chi-squared (warning: expected count < 5)\n",
       "                                                     Unknown                                     28 (0.6)      7 (1.6)      4 (0.5)     17 (0.5)                                                   \n",
       "                                                     Yes_haemo                                2433 (51.9)   256 (58.3)   505 (59.2)  1672 (49.2)                                                   \n",
       "                                                     Yes_peri                                 1703 (36.3)   132 (30.1)   276 (32.4)  1295 (38.1)                                                   \n",
       " Cold Ischemia Time Deceased Donors, mean (SD)                                          1457   21.9 (7.2)   22.6 (7.0)   23.1 (6.9)   21.4 (7.3)  <0.001                              One-way ANOVA\n",
       " Cold Ischemia Time Living Donors, mean (SD)                                            3235    2.5 (1.5)    2.5 (1.0)    2.5 (1.1)    2.5 (1.6)   0.989                              One-way ANOVA\n",
       "MMF/azathioprine, n (%)                              No                                    0  1113 (23.7)    89 (20.3)   209 (24.5)   815 (24.0)   0.192                                Chi-squared\n",
       "                                                     Yes                                      3577 (76.3)   350 (79.7)   644 (75.5)  2583 (76.0)                                                   \n",
       "Cyclosporin/Tacrolimus, n (%)                        No                                    0    288 (6.1)     24 (5.5)     45 (5.3)    219 (6.4)   0.368                                Chi-squared\n",
       "                                                     Yes                                      4402 (93.9)   415 (94.5)   808 (94.7)  3179 (93.6)                                                   \n",
       "[1] Chi-squared tests for the following variables may be invalid due to the low number of observations: DialysisYN, Unknown_T0."
      ]
     },
     "execution_count": 9,
     "metadata": {},
     "output_type": "execute_result"
    }
   ],
   "source": [
    "# columns containing categorical variables\n",
    "categorical = ['RecipientSex_NOTR', 'DonorSex_NOTR', \n",
    "'IL2rMoAb_T0', 'ALG_ATG_OKT3_AntiPanTMoAb',\n",
    "'Retransplant', 'TypeCadaveric_NOTR', 'DialysisYN',\n",
    "'Steroids_T0', 'Sirolimus_T0', 'MMF/azathioprine', 'Cyclosporin/Tacrolimus', 'Unknown_T0', 'Others_T0',\n",
    "]\n",
    "\n",
    "# optionally, a categorical variable for stratification\n",
    "groupby = ['DESA_Status']\n",
    "\n",
    "# rename the death column\n",
    "labels={\n",
    "    'DonorAge_NOTR': 'Donor Age',\n",
    "    'DonorSex_NOTR': 'Donor Sex',\n",
    "    'RecipientAge_NOTR': 'Recipiet Age',\n",
    "    'RecipientSex_NOTR': 'Recipiet Sex',\n",
    "    'DialysisYears': 'Time on dialysis, y',\n",
    "    'TypeCadaveric_NOTR': 'Type of Donor',\n",
    "    'CIPDeceadDonor': ' Cold Ischemia Time Deceased Donors', \n",
    "    'CIPLivingDonor': ' Cold Ischemia Time Living Donors', \n",
    "    'CurrentPRA_NOTR': 'PRA at time of transplant, %',\n",
    "    'HighPRA_NOTR': 'Highest PRA, %',\n",
    "    'NumMismatch_ABDRDQ_broad': 'HLA-A/B/DR/DQ broad mismatches, mean ± SD', \n",
    "    'Dialysis': 'DialysisYN',\n",
    "}\n",
    "\n",
    "continuous = {\n",
    "    'DonorAge_NOTR', 'RecipientAge_NOTR', 'CIPDeceadDonor', 'DialysisYears',\n",
    "    'CIPLivingDonor', 'CurrentPRA_NOTR', 'HighPRA_NOTR', 'NumMismatch_ABDR_broad',\n",
    "    }\n",
    "# htest = {var:scipy.stats.mannwhitneyu for var in continuous}\n",
    "\n",
    "htest = {'RecipientAge_NOTR': scipy.stats.mannwhitneyu}\n",
    "\n",
    "# link to documentation https://github.com/tompollard/tableone/blob/master/tableone/tableone.py\n",
    "\n",
    "table1 = TableOne(\n",
    "    df_t1, \n",
    "    groupby=groupby,\n",
    "    missing=True,\n",
    "    categorical=categorical,\n",
    "    pval=True,\n",
    "    rename=labels,\n",
    "    htest_name=True,\n",
    "    # htest=htest,\n",
    ")\n",
    "table1"
   ]
  },
  {
   "cell_type": "code",
   "execution_count": 10,
   "metadata": {},
   "outputs": [
    {
     "data": {
      "text/plain": [
       "No HLAE-Abs    3398\n",
       "No DESA         853\n",
       "DESA            439\n",
       "Name: DESA_Status, dtype: int64"
      ]
     },
     "execution_count": 10,
     "metadata": {},
     "output_type": "execute_result"
    }
   ],
   "source": [
    "df_t1['DESA_Status'].value_counts()"
   ]
  },
  {
   "cell_type": "code",
   "execution_count": 11,
   "metadata": {},
   "outputs": [],
   "source": [
    "from scipy.stats import mannwhitneyu, chi2_contingency, fisher_exact\n",
    "def mannwhitneyu_test(data, column,  **kwargs):\n",
    "    desa_group = data[data.DESA_Status == 'DESA'][column]\n",
    "    print(round(desa_group.mean(), 2), round(desa_group.std(), 2))\n",
    "    no_desa_group = data[data.DESA_Status == 'No DESA'][column]\n",
    "    print(round(no_desa_group.mean(), 2), round(no_desa_group.std(), 2))\n",
    "    print(mannwhitneyu(desa_group, no_desa_group,  **kwargs))\n",
    "\n",
    "def chi2_test(data, column, fisher_test:bool=False, **kwargs):\n",
    "    # https://pythonfordatascienceorg.wordpress.com/chi-square-python/\n",
    "    # The H0 (Null Hypothesis): There is no relationship between variable one and variable two.\n",
    "    # The H1 (Alternative Hypothesis): There is a relationship between variable 1 and variable 2.\n",
    "    \n",
    "    group_by = data['DESA_Status']\n",
    "    cat_var = data[column]\n",
    "    crosstab = pd.crosstab(group_by, cat_var)\n",
    "    if fisher_test:\n",
    "        print(fisher_exact(crosstab))\n",
    "    else:\n",
    "        print(chi2_contingency(crosstab, **kwargs))\n",
    "    return crosstab\n"
   ]
  },
  {
   "cell_type": "code",
   "execution_count": 12,
   "metadata": {},
   "outputs": [
    {
     "name": "stdout",
     "output_type": "stream",
     "text": [
      "44.58 13.7\n",
      "45.12 13.72\n",
      "MannwhitneyuResult(statistic=182939.5, pvalue=0.4989826035872016)\n"
     ]
    }
   ],
   "source": [
    "mannwhitneyu_test(df_t1, 'RecipientAge_NOTR')"
   ]
  },
  {
   "cell_type": "code",
   "execution_count": 13,
   "metadata": {},
   "outputs": [
    {
     "name": "stdout",
     "output_type": "stream",
     "text": [
      "45.14 15.35\n",
      "43.54 14.6\n",
      "MannwhitneyuResult(statistic=201728.0, pvalue=0.02247015720267663)\n"
     ]
    }
   ],
   "source": [
    "mannwhitneyu_test(df_t1, 'DonorAge_NOTR')"
   ]
  },
  {
   "cell_type": "code",
   "execution_count": 14,
   "metadata": {},
   "outputs": [
    {
     "name": "stdout",
     "output_type": "stream",
     "text": [
      "3.3 3.04\n",
      "3.39 2.98\n",
      "MannwhitneyuResult(statistic=180309.5, pvalue=0.27552665752974814)\n"
     ]
    }
   ],
   "source": [
    "mannwhitneyu_test(df_t1, 'DialysisYears')"
   ]
  },
  {
   "cell_type": "code",
   "execution_count": 15,
   "metadata": {},
   "outputs": [
    {
     "name": "stdout",
     "output_type": "stream",
     "text": [
      "2.68 1.65\n",
      "2.63 1.69\n",
      "MannwhitneyuResult(statistic=153827.5, pvalue=0.7112864595954119)\n"
     ]
    },
    {
     "ename": "TypeError",
     "evalue": "mannwhitneyu() got an unexpected keyword argument 'nan_policy'",
     "output_type": "error",
     "traceback": [
      "\u001b[0;31m---------------------------------------------------------------------------\u001b[0m",
      "\u001b[0;31mTypeError\u001b[0m                                 Traceback (most recent call last)",
      "Cell \u001b[0;32mIn[16], line 1\u001b[0m\n\u001b[0;32m----> 1\u001b[0m mannwhitneyu_test(df_t1, \u001b[39m'\u001b[39;49m\u001b[39mNumMismatch_ABDR_broad\u001b[39;49m\u001b[39m'\u001b[39;49m, nan_policy\u001b[39m=\u001b[39;49m\u001b[39m'\u001b[39;49m\u001b[39momit\u001b[39;49m\u001b[39m'\u001b[39;49m)\n",
      "Cell \u001b[0;32mIn[12], line 7\u001b[0m, in \u001b[0;36mmannwhitneyu_test\u001b[0;34m(data, column, **kwargs)\u001b[0m\n\u001b[1;32m      5\u001b[0m no_desa_group \u001b[39m=\u001b[39m data[data\u001b[39m.\u001b[39mDESA_Status \u001b[39m==\u001b[39m \u001b[39m'\u001b[39m\u001b[39mNo DESA\u001b[39m\u001b[39m'\u001b[39m][column]\n\u001b[1;32m      6\u001b[0m \u001b[39mprint\u001b[39m(\u001b[39mround\u001b[39m(no_desa_group\u001b[39m.\u001b[39mmean(), \u001b[39m2\u001b[39m), \u001b[39mround\u001b[39m(no_desa_group\u001b[39m.\u001b[39mstd(), \u001b[39m2\u001b[39m))\n\u001b[0;32m----> 7\u001b[0m \u001b[39mprint\u001b[39m(mannwhitneyu(desa_group, no_desa_group,  \u001b[39m*\u001b[39;49m\u001b[39m*\u001b[39;49mkwargs))\n",
      "\u001b[0;31mTypeError\u001b[0m: mannwhitneyu() got an unexpected keyword argument 'nan_policy'"
     ]
    }
   ],
   "source": [
    "\n",
    "mannwhitneyu_test(df_t1, 'NumMismatch_ABDR_broad', nan_policy='omit')"
   ]
  },
  {
   "cell_type": "code",
   "execution_count": 16,
   "metadata": {},
   "outputs": [
    {
     "name": "stdout",
     "output_type": "stream",
     "text": [
      "(5.522845341722698, 0.06320178902569693, 2, array([[   9.82835821,  429.17164179],\n",
      "       [  19.09701493,  833.90298507],\n",
      "       [  76.07462687, 3321.92537313]]))\n"
     ]
    },
    {
     "data": {
      "text/html": [
       "<div>\n",
       "<style scoped>\n",
       "    .dataframe tbody tr th:only-of-type {\n",
       "        vertical-align: middle;\n",
       "    }\n",
       "\n",
       "    .dataframe tbody tr th {\n",
       "        vertical-align: top;\n",
       "    }\n",
       "\n",
       "    .dataframe thead th {\n",
       "        text-align: right;\n",
       "    }\n",
       "</style>\n",
       "<table border=\"1\" class=\"dataframe\">\n",
       "  <thead>\n",
       "    <tr style=\"text-align: right;\">\n",
       "      <th>Steroids_T0</th>\n",
       "      <th>No</th>\n",
       "      <th>Yes</th>\n",
       "    </tr>\n",
       "    <tr>\n",
       "      <th>DESA_Status</th>\n",
       "      <th></th>\n",
       "      <th></th>\n",
       "    </tr>\n",
       "  </thead>\n",
       "  <tbody>\n",
       "    <tr>\n",
       "      <th>DESA</th>\n",
       "      <td>16</td>\n",
       "      <td>423</td>\n",
       "    </tr>\n",
       "    <tr>\n",
       "      <th>No DESA</th>\n",
       "      <td>22</td>\n",
       "      <td>831</td>\n",
       "    </tr>\n",
       "    <tr>\n",
       "      <th>No HLAE-Abs</th>\n",
       "      <td>67</td>\n",
       "      <td>3331</td>\n",
       "    </tr>\n",
       "  </tbody>\n",
       "</table>\n",
       "</div>"
      ],
      "text/plain": [
       "Steroids_T0  No   Yes\n",
       "DESA_Status          \n",
       "DESA         16   423\n",
       "No DESA      22   831\n",
       "No HLAE-Abs  67  3331"
      ]
     },
     "execution_count": 16,
     "metadata": {},
     "output_type": "execute_result"
    }
   ],
   "source": [
    "chi2_test(df_t1, 'Steroids_T0', correction=False)"
   ]
  },
  {
   "cell_type": "code",
   "execution_count": 17,
   "metadata": {},
   "outputs": [
    {
     "name": "stdout",
     "output_type": "stream",
     "text": [
      "(0.6157849827569617, 0.7349943319891071, 2, array([[ 412.41663113,   26.58336887],\n",
      "       [ 801.34712154,   51.65287846],\n",
      "       [3192.23624733,  205.76375267]]))\n"
     ]
    },
    {
     "data": {
      "text/html": [
       "<div>\n",
       "<style scoped>\n",
       "    .dataframe tbody tr th:only-of-type {\n",
       "        vertical-align: middle;\n",
       "    }\n",
       "\n",
       "    .dataframe tbody tr th {\n",
       "        vertical-align: top;\n",
       "    }\n",
       "\n",
       "    .dataframe thead th {\n",
       "        text-align: right;\n",
       "    }\n",
       "</style>\n",
       "<table border=\"1\" class=\"dataframe\">\n",
       "  <thead>\n",
       "    <tr style=\"text-align: right;\">\n",
       "      <th>Sirolimus_T0</th>\n",
       "      <th>No</th>\n",
       "      <th>Yes</th>\n",
       "    </tr>\n",
       "    <tr>\n",
       "      <th>DESA_Status</th>\n",
       "      <th></th>\n",
       "      <th></th>\n",
       "    </tr>\n",
       "  </thead>\n",
       "  <tbody>\n",
       "    <tr>\n",
       "      <th>DESA</th>\n",
       "      <td>416</td>\n",
       "      <td>23</td>\n",
       "    </tr>\n",
       "    <tr>\n",
       "      <th>No DESA</th>\n",
       "      <td>802</td>\n",
       "      <td>51</td>\n",
       "    </tr>\n",
       "    <tr>\n",
       "      <th>No HLAE-Abs</th>\n",
       "      <td>3188</td>\n",
       "      <td>210</td>\n",
       "    </tr>\n",
       "  </tbody>\n",
       "</table>\n",
       "</div>"
      ],
      "text/plain": [
       "Sirolimus_T0    No  Yes\n",
       "DESA_Status            \n",
       "DESA           416   23\n",
       "No DESA        802   51\n",
       "No HLAE-Abs   3188  210"
      ]
     },
     "execution_count": 17,
     "metadata": {},
     "output_type": "execute_result"
    }
   ],
   "source": [
    "chi2_test(df_t1, 'Sirolimus_T0', correction=False)"
   ]
  },
  {
   "cell_type": "code",
   "execution_count": 18,
   "metadata": {},
   "outputs": [
    {
     "name": "stdout",
     "output_type": "stream",
     "text": [
      "(3.300542794107034, 0.1919977939136351, 2, array([[ 104.18059701,  334.81940299],\n",
      "       [ 202.42835821,  650.57164179],\n",
      "       [ 806.39104478, 2591.60895522]]))\n"
     ]
    },
    {
     "data": {
      "text/html": [
       "<div>\n",
       "<style scoped>\n",
       "    .dataframe tbody tr th:only-of-type {\n",
       "        vertical-align: middle;\n",
       "    }\n",
       "\n",
       "    .dataframe tbody tr th {\n",
       "        vertical-align: top;\n",
       "    }\n",
       "\n",
       "    .dataframe thead th {\n",
       "        text-align: right;\n",
       "    }\n",
       "</style>\n",
       "<table border=\"1\" class=\"dataframe\">\n",
       "  <thead>\n",
       "    <tr style=\"text-align: right;\">\n",
       "      <th>MMF/azathioprine</th>\n",
       "      <th>No</th>\n",
       "      <th>Yes</th>\n",
       "    </tr>\n",
       "    <tr>\n",
       "      <th>DESA_Status</th>\n",
       "      <th></th>\n",
       "      <th></th>\n",
       "    </tr>\n",
       "  </thead>\n",
       "  <tbody>\n",
       "    <tr>\n",
       "      <th>DESA</th>\n",
       "      <td>89</td>\n",
       "      <td>350</td>\n",
       "    </tr>\n",
       "    <tr>\n",
       "      <th>No DESA</th>\n",
       "      <td>209</td>\n",
       "      <td>644</td>\n",
       "    </tr>\n",
       "    <tr>\n",
       "      <th>No HLAE-Abs</th>\n",
       "      <td>815</td>\n",
       "      <td>2583</td>\n",
       "    </tr>\n",
       "  </tbody>\n",
       "</table>\n",
       "</div>"
      ],
      "text/plain": [
       "MMF/azathioprine   No   Yes\n",
       "DESA_Status                \n",
       "DESA               89   350\n",
       "No DESA           209   644\n",
       "No HLAE-Abs       815  2583"
      ]
     },
     "execution_count": 18,
     "metadata": {},
     "output_type": "execute_result"
    }
   ],
   "source": [
    "chi2_test(df_t1, 'MMF/azathioprine', correction=False)"
   ]
  },
  {
   "cell_type": "code",
   "execution_count": 19,
   "metadata": {},
   "outputs": [
    {
     "ename": "ValueError",
     "evalue": "The input `table` must be of shape (2, 2).",
     "output_type": "error",
     "traceback": [
      "\u001b[0;31m---------------------------------------------------------------------------\u001b[0m",
      "\u001b[0;31mValueError\u001b[0m                                Traceback (most recent call last)",
      "\u001b[1;32m/home/lcreteig/desa_paper/Notebooks/dataset charachteristics/analysis.ipynb Cell 21\u001b[0m line \u001b[0;36m1\n\u001b[0;32m----> <a href='vscode-notebook-cell://wsl%2Bubuntu-20.04/home/lcreteig/desa_paper/Notebooks/dataset%20charachteristics/analysis.ipynb#X33sdnNjb2RlLXJlbW90ZQ%3D%3D?line=0'>1</a>\u001b[0m chi2_test(df_t1, \u001b[39m'\u001b[39;49m\u001b[39mUnknown_T0\u001b[39;49m\u001b[39m'\u001b[39;49m, fisher_test\u001b[39m=\u001b[39;49m\u001b[39mTrue\u001b[39;49;00m)\n",
      "\u001b[1;32m/home/lcreteig/desa_paper/Notebooks/dataset charachteristics/analysis.ipynb Cell 21\u001b[0m line \u001b[0;36m2\n\u001b[1;32m     <a href='vscode-notebook-cell://wsl%2Bubuntu-20.04/home/lcreteig/desa_paper/Notebooks/dataset%20charachteristics/analysis.ipynb#X33sdnNjb2RlLXJlbW90ZQ%3D%3D?line=18'>19</a>\u001b[0m crosstab \u001b[39m=\u001b[39m pd\u001b[39m.\u001b[39mcrosstab(group_by, cat_var)\n\u001b[1;32m     <a href='vscode-notebook-cell://wsl%2Bubuntu-20.04/home/lcreteig/desa_paper/Notebooks/dataset%20charachteristics/analysis.ipynb#X33sdnNjb2RlLXJlbW90ZQ%3D%3D?line=19'>20</a>\u001b[0m \u001b[39mif\u001b[39;00m fisher_test:\n\u001b[0;32m---> <a href='vscode-notebook-cell://wsl%2Bubuntu-20.04/home/lcreteig/desa_paper/Notebooks/dataset%20charachteristics/analysis.ipynb#X33sdnNjb2RlLXJlbW90ZQ%3D%3D?line=20'>21</a>\u001b[0m     \u001b[39mprint\u001b[39m(fisher_exact(crosstab))\n\u001b[1;32m     <a href='vscode-notebook-cell://wsl%2Bubuntu-20.04/home/lcreteig/desa_paper/Notebooks/dataset%20charachteristics/analysis.ipynb#X33sdnNjb2RlLXJlbW90ZQ%3D%3D?line=21'>22</a>\u001b[0m \u001b[39melse\u001b[39;00m:\n\u001b[1;32m     <a href='vscode-notebook-cell://wsl%2Bubuntu-20.04/home/lcreteig/desa_paper/Notebooks/dataset%20charachteristics/analysis.ipynb#X33sdnNjb2RlLXJlbW90ZQ%3D%3D?line=22'>23</a>\u001b[0m     \u001b[39mprint\u001b[39m(chi2_contingency(crosstab, \u001b[39m*\u001b[39m\u001b[39m*\u001b[39mkwargs))\n",
      "File \u001b[0;32m~/.local/share/virtualenvs/desa_paper-0PNgmhA7/lib/python3.8/site-packages/scipy/stats/stats.py:4233\u001b[0m, in \u001b[0;36mfisher_exact\u001b[0;34m(table, alternative)\u001b[0m\n\u001b[1;32m   4231\u001b[0m c \u001b[39m=\u001b[39m np\u001b[39m.\u001b[39masarray(table, dtype\u001b[39m=\u001b[39mnp\u001b[39m.\u001b[39mint64)\n\u001b[1;32m   4232\u001b[0m \u001b[39mif\u001b[39;00m \u001b[39mnot\u001b[39;00m c\u001b[39m.\u001b[39mshape \u001b[39m==\u001b[39m (\u001b[39m2\u001b[39m, \u001b[39m2\u001b[39m):\n\u001b[0;32m-> 4233\u001b[0m     \u001b[39mraise\u001b[39;00m \u001b[39mValueError\u001b[39;00m(\u001b[39m\"\u001b[39m\u001b[39mThe input `table` must be of shape (2, 2).\u001b[39m\u001b[39m\"\u001b[39m)\n\u001b[1;32m   4235\u001b[0m \u001b[39mif\u001b[39;00m np\u001b[39m.\u001b[39many(c \u001b[39m<\u001b[39m \u001b[39m0\u001b[39m):\n\u001b[1;32m   4236\u001b[0m     \u001b[39mraise\u001b[39;00m \u001b[39mValueError\u001b[39;00m(\u001b[39m\"\u001b[39m\u001b[39mAll values in `table` must be nonnegative.\u001b[39m\u001b[39m\"\u001b[39m)\n",
      "\u001b[0;31mValueError\u001b[0m: The input `table` must be of shape (2, 2)."
     ]
    }
   ],
   "source": [
    "chi2_test(df_t1, 'Unknown_T0', fisher_test=True)"
   ]
  },
  {
   "cell_type": "code",
   "execution_count": null,
   "metadata": {},
   "outputs": [
    {
     "name": "stdout",
     "output_type": "stream",
     "text": [
      "(10.087967861596132, 0.00149240598008464, 1, array([[ 382.83795309,   56.16204691],\n",
      "       [3707.16204691,  543.83795309]]))\n"
     ]
    },
    {
     "data": {
      "text/html": [
       "<div>\n",
       "<style scoped>\n",
       "    .dataframe tbody tr th:only-of-type {\n",
       "        vertical-align: middle;\n",
       "    }\n",
       "\n",
       "    .dataframe tbody tr th {\n",
       "        vertical-align: top;\n",
       "    }\n",
       "\n",
       "    .dataframe thead th {\n",
       "        text-align: right;\n",
       "    }\n",
       "</style>\n",
       "<table border=\"1\" class=\"dataframe\">\n",
       "  <thead>\n",
       "    <tr style=\"text-align: right;\">\n",
       "      <th>Others_T0</th>\n",
       "      <th>No</th>\n",
       "      <th>Yes</th>\n",
       "    </tr>\n",
       "    <tr>\n",
       "      <th>DESA_Status</th>\n",
       "      <th></th>\n",
       "      <th></th>\n",
       "    </tr>\n",
       "  </thead>\n",
       "  <tbody>\n",
       "    <tr>\n",
       "      <th>DESA</th>\n",
       "      <td>404</td>\n",
       "      <td>35</td>\n",
       "    </tr>\n",
       "    <tr>\n",
       "      <th>No DESA</th>\n",
       "      <td>3686</td>\n",
       "      <td>565</td>\n",
       "    </tr>\n",
       "  </tbody>\n",
       "</table>\n",
       "</div>"
      ],
      "text/plain": [
       "Others_T0      No  Yes\n",
       "DESA_Status           \n",
       "DESA          404   35\n",
       "No DESA      3686  565"
      ]
     },
     "execution_count": 22,
     "metadata": {},
     "output_type": "execute_result"
    }
   ],
   "source": [
    "chi2_test(df_t1, 'Others_T0', correction=False)"
   ]
  },
  {
   "attachments": {},
   "cell_type": "markdown",
   "metadata": {},
   "source": [
    "# Tineke Questions:\n",
    "\n",
    "A. number of patients not on dialysis (no) is higher than in the previous DSA cohort, while our cohort is slightly smaller… So I expect to have the same or less numbers compared to the DSA cohort. The same for the unknowns. Are the numbers correct?\n",
    "\n",
    "* I was able to replicate the AJT 2018 table for most of variables. For Dialysis type, however, I found slightly different count numbers. If we compare our paper with teh replication they should make sense. \n",
    "\n",
    "-------------------------\n",
    "Replication of AJT 2018:            \n",
    "Yes_haemo    2441\n",
    "Yes_peri     1712\n",
    "No            542\n",
    "Unknown        29\n",
    "\n",
    "-------------------------\n",
    "AJT 2018\n",
    "Yes_haemo    2472\n",
    "Yes_peri     1715\n",
    "No            515\n",
    "Unknown        22\n",
    "\n",
    "B. in the DSA cohort, differences between groups for age at transplant (recipient) resulted in a p-value 0.01, while in our cohort p-value is 0.126. Is this p-value correct? The mean +/- SD are quite similar between both cohorts, so I’m asking just to be sure.\n",
    "\n",
    "* I repeated the analysis and got the same result again\n",
    "*  As you see for both groups the recipient age means (45.5 vs 44.6) are closer compared to AJT 2018 paper (45.6 vs 44.2). Thus a larger p-value (age distributions are similar) is expected which means there is not a significant age distributions difference .\n",
    "\n",
    "C. You’ve used the Fisher’s exact test to compare unknown initial immunosuppression instead of the Chi-square test. Is there a reason why you did that? And again in comparison to the DSA cohort, there is a huge difference in p-value (.47 in DSA, 0.056 in DESA cohort), while the numbers are quite similar. Is this also correct?\n",
    "\n",
    "* The method that I used to create the table automatically used a Fisher test under the hood. I think this is because of the count of items <5 see the below explenations. \n",
    "* The difference is explained from large difference on the counts of No's (Although Yes's have similar counts). The count difference on No is alos because our minority group is smaller than the AJT 2018 paper. \n",
    "\n",
    "\"The conventional rule of thumb is that if all of the expected numbers are greater than 5, it's acceptable to use the chi-square or G–test; if an expected number is less than 5, you should use an alternative, such as an exact test of goodness-of-fit or a Fisher's exact test of independence\", [http://www.biostathandbook.com/small.html]\n",
    "\n",
    "\n",
    "D. The same for the comparison of MMF/Azathioprine and Cyclosporine/tacrolimus. Also very different from the DSA cohort…\n",
    "* I was able to replicate the AJT 2018 table for all of immunosupressive regiems. The counts were quite the same except the Others (with a tinyy/couple of count difference). The p-values were also the same except MMF/Azathioprine (I found 0.34 AJT 2018 paper found 0.20).\n",
    "* I redid the p-values and found  "
   ]
  },
  {
   "attachments": {},
   "cell_type": "markdown",
   "metadata": {},
   "source": [
    "# Revision round 2 questions"
   ]
  },
  {
   "cell_type": "markdown",
   "metadata": {},
   "source": [
    "## Q1\n",
    "The DSA group consists of DSAs with DESAS (DSA+DESA+) and without DESAS (DSA+DESA-). Is there a difference in graft survival between these groups?"
   ]
  },
  {
   "cell_type": "code",
   "execution_count": null,
   "metadata": {},
   "outputs": [
    {
     "data": {
      "text/plain": [
       "No MFI         2840\n",
       "No DESA         683\n",
       "No HLAE-Abs     540\n",
       "DESA             61\n",
       "Name: DESA_Status, dtype: int64"
      ]
     },
     "execution_count": 23,
     "metadata": {},
     "output_type": "execute_result"
    }
   ],
   "source": [
    "df[df.DSA == 0].DESA_Status.value_counts()"
   ]
  },
  {
   "cell_type": "code",
   "execution_count": null,
   "metadata": {},
   "outputs": [
    {
     "data": {
      "text/plain": [
       "DESA           378\n",
       "No DESA        170\n",
       "No HLAE-Abs     18\n",
       "Name: DESA_Status, dtype: int64"
      ]
     },
     "execution_count": 24,
     "metadata": {},
     "output_type": "execute_result"
    }
   ],
   "source": [
    "df[df.DSA == 1].DESA_Status.value_counts()"
   ]
  },
  {
   "cell_type": "code",
   "execution_count": null,
   "metadata": {},
   "outputs": [
    {
     "name": "stderr",
     "output_type": "stream",
     "text": [
      "/home/lcreteig/.local/share/virtualenvs/desa_paper-0PNgmhA7/lib/python3.8/site-packages/autograd/numpy/numpy_wrapper.py:20: DeprecationWarning: `np.int` is a deprecated alias for the builtin `int`. To silence this warning, use `int` by itself. Doing this will not modify any behavior and is safe. When replacing `np.int`, you may wish to use e.g. `np.int64` or `np.int32` to specify the precision. If you wish to review your current use, check the release note link for additional information.\n",
      "Deprecated in NumPy 1.20; for more details and guidance: https://numpy.org/devdocs/release/1.20.0-notes.html#deprecations\n",
      "  int_types = {_np.int, _np.int8, _np.int16, _np.int32, _np.int64, _np.integer}\n",
      "/home/lcreteig/.local/share/virtualenvs/desa_paper-0PNgmhA7/lib/python3.8/site-packages/autograd/numpy/numpy_wrapper.py:20: DeprecationWarning: `np.int` is a deprecated alias for the builtin `int`. To silence this warning, use `int` by itself. Doing this will not modify any behavior and is safe. When replacing `np.int`, you may wish to use e.g. `np.int64` or `np.int32` to specify the precision. If you wish to review your current use, check the release note link for additional information.\n",
      "Deprecated in NumPy 1.20; for more details and guidance: https://numpy.org/devdocs/release/1.20.0-notes.html#deprecations\n",
      "  int_types = {_np.int, _np.int8, _np.int16, _np.int32, _np.int64, _np.integer}\n",
      "/home/lcreteig/.local/share/virtualenvs/desa_paper-0PNgmhA7/lib/python3.8/site-packages/autograd/numpy/numpy_wrapper.py:20: DeprecationWarning: `np.int` is a deprecated alias for the builtin `int`. To silence this warning, use `int` by itself. Doing this will not modify any behavior and is safe. When replacing `np.int`, you may wish to use e.g. `np.int64` or `np.int32` to specify the precision. If you wish to review your current use, check the release note link for additional information.\n",
      "Deprecated in NumPy 1.20; for more details and guidance: https://numpy.org/devdocs/release/1.20.0-notes.html#deprecations\n",
      "  int_types = {_np.int, _np.int8, _np.int16, _np.int32, _np.int64, _np.integer}\n",
      "/home/lcreteig/.local/share/virtualenvs/desa_paper-0PNgmhA7/lib/python3.8/site-packages/autograd/numpy/numpy_wrapper.py:20: DeprecationWarning: `np.int` is a deprecated alias for the builtin `int`. To silence this warning, use `int` by itself. Doing this will not modify any behavior and is safe. When replacing `np.int`, you may wish to use e.g. `np.int64` or `np.int32` to specify the precision. If you wish to review your current use, check the release note link for additional information.\n",
      "Deprecated in NumPy 1.20; for more details and guidance: https://numpy.org/devdocs/release/1.20.0-notes.html#deprecations\n",
      "  int_types = {_np.int, _np.int8, _np.int16, _np.int32, _np.int64, _np.integer}\n"
     ]
    },
    {
     "data": {
      "image/png": "[encoded data removed]",
      "text/plain": [
       "<Figure size 600x500 with 2 Axes>"
      ]
     },
     "metadata": {},
     "output_type": "display_data"
    }
   ],
   "source": [
    "from lifelines import KaplanMeierFitter\n",
    "from matplotlib import pyplot as plt\n",
    "from lifelines.plotting import add_at_risk_counts\n",
    "import matplotlib.ticker as mtick\n",
    "fontsize = 15\n",
    "legend_size = 10\n",
    "\n",
    "df_km = df.copy(deep=True)\n",
    "df_km['T'] = df_km['GraftSurvival10Y_R']\n",
    "df_km['E'] = df_km['FailureCode10Y_R'].astype(bool)\n",
    "\n",
    "kmf1 = KaplanMeierFitter()\n",
    "kmf2 = KaplanMeierFitter()\n",
    "fig, ax = plt.subplots(figsize=(6, 5))\n",
    "\n",
    "desa_pos = (df_km.DSA == 1) & (df.DESA_Status == 'DESA')\n",
    "desa_neg = (df_km.DSA == 1) & (df.DESA_Status != 'DESA')\n",
    "\n",
    "kmf1.fit(df_km[desa_pos]['T'], event_observed=df_km[desa_pos]['E'], label=\"DSA+DESA+\")\n",
    "kmf1.plot_survival_function(ax=ax, ci_show = False, color = 'red')\n",
    "\n",
    "kmf2.fit(df_km[desa_neg]['T'], event_observed=df_km[desa_neg]['E'], label=\"DSA+DESA-\")\n",
    "kmf2.plot_survival_function(ax=ax, ci_show = False, color = 'black')\n",
    "\n",
    "add_at_risk_counts(kmf1, kmf2, ax=ax, fontsize=fontsize, rows_to_show=[\"At risk\", \"Censored\", \"Events\"])\n",
    "\n",
    "#ax.yaxis.grid() # horizontal lines\n",
    "#ax.xaxis.grid()\n",
    "ax.set_xlabel(\"Years after Transplantation\", fontsize=fontsize - 2);\n",
    "ax.set_ylabel(\"Graft Survival (%)\",  fontsize=fontsize - 2);\n",
    "ax.legend(prop={\"size\":legend_size})\n",
    "ax.set_ylim(0)\n",
    "ax.yaxis.set_major_formatter(mtick.PercentFormatter(xmax = 1, decimals = 0, symbol = None))\n",
    "#plt.show();\n",
    "plt.savefig('dsa_v_desa.pdf', bbox_inches = 'tight')"
   ]
  },
  {
   "cell_type": "markdown",
   "metadata": {},
   "source": [
    "## Q7\n",
    "Count Tx'es that failed early (within 3 months and within 6 months)"
   ]
  },
  {
   "cell_type": "code",
   "execution_count": null,
   "metadata": {},
   "outputs": [
    {
     "name": "stdout",
     "output_type": "stream",
     "text": [
      "Number of transplants that failed within\n",
      "3 months: 292\n",
      "6 months: 319\n"
     ]
    }
   ],
   "source": [
    "print(f'''Number of transplants that failed within\n",
    "3 months: {sum((df['FailureCode10Y_R'] == 1) & (df_km['GraftSurvival10Y_R'] <= .25))}\n",
    "6 months: {sum((df['FailureCode10Y_R'] == 1) & (df_km['GraftSurvival10Y_R'] <= .5))}''')"
   ]
  }
 ],
 "metadata": {
  "interpreter": {
   "hash": "708b3676616ca1f6951c8b5aa02ebb124c704b4e02ce2c0aaabd24e4641a0ea4"
  },
  "kernelspec": {
   "display_name": "Python 3.8.6 ('desa_paper-IhoHddMh')",
   "language": "python",
   "name": "python3"
  },
  "language_info": {
   "codemirror_mode": {
    "name": "ipython",
    "version": 3
   },
   "file_extension": ".py",
   "mimetype": "text/x-python",
   "name": "python",
   "nbconvert_exporter": "python",
   "pygments_lexer": "ipython3",
   "version": "3.8.10"
  }
 },
 "nbformat": 4,
 "nbformat_minor": 4
}
